{
  "cells": [
    {
      "cell_type": "code",
      "execution_count": 1,
      "metadata": {
        "colab": {
          "base_uri": "https://localhost:8080/"
        },
        "id": "qqOmK3R84Gzw",
        "outputId": "6c87b1f0-f550-4067-85ce-be8fb7616046"
      },
      "outputs": [
        {
          "output_type": "stream",
          "name": "stdout",
          "text": [
            "Mounted at /content/drive\n"
          ]
        }
      ],
      "source": [
        "from google.colab import drive\n",
        "drive.mount('/content/drive')"
      ]
    },
    {
      "cell_type": "code",
      "execution_count": 2,
      "metadata": {
        "id": "YT7KeC714lyZ"
      },
      "outputs": [],
      "source": [
        "import pandas as pd\n",
        "import numpy as np\n",
        "from sklearn.feature_extraction.text import TfidfVectorizer\n",
        "from sklearn.svm import LinearSVC\n",
        "from sklearn.neighbors import KNeighborsClassifier\n",
        "from sklearn import svm\n",
        "from sklearn.metrics import classification_report,accuracy_score\n",
        "from sklearn.linear_model import LogisticRegression\n",
        "from sklearn.naive_bayes import MultinomialNB\n",
        "from sklearn.tree import DecisionTreeClassifier\n",
        "from sklearn.ensemble import VotingClassifier"
      ]
    },
    {
      "cell_type": "code",
      "execution_count": 11,
      "metadata": {
        "id": "gM9zUCb65c4J"
      },
      "outputs": [],
      "source": [
        "train_set=pd.read_csv('/content/drive/MyDrive/CoLi-Dravidian_2024/mal_train.csv')\n",
        "val_set=pd.read_csv('/content/drive/MyDrive/CoLi-Dravidian_2024/mal_val.csv')"
      ]
    },
    {
      "cell_type": "code",
      "execution_count": 12,
      "metadata": {
        "colab": {
          "base_uri": "https://localhost:8080/",
          "height": 206
        },
        "id": "xHZkOCrxnG9V",
        "outputId": "2e1efdd4-aaa1-4ac4-929e-c74bed4d2f86"
      },
      "outputs": [
        {
          "output_type": "execute_result",
          "data": {
            "text/plain": [
              "      Word        Tag\n",
              "0     Supr    ENGLISH\n",
              "1  trailer    ENGLISH\n",
              "2      oru  MALAYALAM\n",
              "3  vettame  MALAYALAM\n",
              "4     like    ENGLISH"
            ],
            "text/html": [
              "\n",
              "  <div id=\"df-7fd364b0-4c5d-4e60-96a9-56a321154026\" class=\"colab-df-container\">\n",
              "    <div>\n",
              "<style scoped>\n",
              "    .dataframe tbody tr th:only-of-type {\n",
              "        vertical-align: middle;\n",
              "    }\n",
              "\n",
              "    .dataframe tbody tr th {\n",
              "        vertical-align: top;\n",
              "    }\n",
              "\n",
              "    .dataframe thead th {\n",
              "        text-align: right;\n",
              "    }\n",
              "</style>\n",
              "<table border=\"1\" class=\"dataframe\">\n",
              "  <thead>\n",
              "    <tr style=\"text-align: right;\">\n",
              "      <th></th>\n",
              "      <th>Word</th>\n",
              "      <th>Tag</th>\n",
              "    </tr>\n",
              "  </thead>\n",
              "  <tbody>\n",
              "    <tr>\n",
              "      <th>0</th>\n",
              "      <td>Supr</td>\n",
              "      <td>ENGLISH</td>\n",
              "    </tr>\n",
              "    <tr>\n",
              "      <th>1</th>\n",
              "      <td>trailer</td>\n",
              "      <td>ENGLISH</td>\n",
              "    </tr>\n",
              "    <tr>\n",
              "      <th>2</th>\n",
              "      <td>oru</td>\n",
              "      <td>MALAYALAM</td>\n",
              "    </tr>\n",
              "    <tr>\n",
              "      <th>3</th>\n",
              "      <td>vettame</td>\n",
              "      <td>MALAYALAM</td>\n",
              "    </tr>\n",
              "    <tr>\n",
              "      <th>4</th>\n",
              "      <td>like</td>\n",
              "      <td>ENGLISH</td>\n",
              "    </tr>\n",
              "  </tbody>\n",
              "</table>\n",
              "</div>\n",
              "    <div class=\"colab-df-buttons\">\n",
              "\n",
              "  <div class=\"colab-df-container\">\n",
              "    <button class=\"colab-df-convert\" onclick=\"convertToInteractive('df-7fd364b0-4c5d-4e60-96a9-56a321154026')\"\n",
              "            title=\"Convert this dataframe to an interactive table.\"\n",
              "            style=\"display:none;\">\n",
              "\n",
              "  <svg xmlns=\"http://www.w3.org/2000/svg\" height=\"24px\" viewBox=\"0 -960 960 960\">\n",
              "    <path d=\"M120-120v-720h720v720H120Zm60-500h600v-160H180v160Zm220 220h160v-160H400v160Zm0 220h160v-160H400v160ZM180-400h160v-160H180v160Zm440 0h160v-160H620v160ZM180-180h160v-160H180v160Zm440 0h160v-160H620v160Z\"/>\n",
              "  </svg>\n",
              "    </button>\n",
              "\n",
              "  <style>\n",
              "    .colab-df-container {\n",
              "      display:flex;\n",
              "      gap: 12px;\n",
              "    }\n",
              "\n",
              "    .colab-df-convert {\n",
              "      background-color: #E8F0FE;\n",
              "      border: none;\n",
              "      border-radius: 50%;\n",
              "      cursor: pointer;\n",
              "      display: none;\n",
              "      fill: #1967D2;\n",
              "      height: 32px;\n",
              "      padding: 0 0 0 0;\n",
              "      width: 32px;\n",
              "    }\n",
              "\n",
              "    .colab-df-convert:hover {\n",
              "      background-color: #E2EBFA;\n",
              "      box-shadow: 0px 1px 2px rgba(60, 64, 67, 0.3), 0px 1px 3px 1px rgba(60, 64, 67, 0.15);\n",
              "      fill: #174EA6;\n",
              "    }\n",
              "\n",
              "    .colab-df-buttons div {\n",
              "      margin-bottom: 4px;\n",
              "    }\n",
              "\n",
              "    [theme=dark] .colab-df-convert {\n",
              "      background-color: #3B4455;\n",
              "      fill: #D2E3FC;\n",
              "    }\n",
              "\n",
              "    [theme=dark] .colab-df-convert:hover {\n",
              "      background-color: #434B5C;\n",
              "      box-shadow: 0px 1px 3px 1px rgba(0, 0, 0, 0.15);\n",
              "      filter: drop-shadow(0px 1px 2px rgba(0, 0, 0, 0.3));\n",
              "      fill: #FFFFFF;\n",
              "    }\n",
              "  </style>\n",
              "\n",
              "    <script>\n",
              "      const buttonEl =\n",
              "        document.querySelector('#df-7fd364b0-4c5d-4e60-96a9-56a321154026 button.colab-df-convert');\n",
              "      buttonEl.style.display =\n",
              "        google.colab.kernel.accessAllowed ? 'block' : 'none';\n",
              "\n",
              "      async function convertToInteractive(key) {\n",
              "        const element = document.querySelector('#df-7fd364b0-4c5d-4e60-96a9-56a321154026');\n",
              "        const dataTable =\n",
              "          await google.colab.kernel.invokeFunction('convertToInteractive',\n",
              "                                                    [key], {});\n",
              "        if (!dataTable) return;\n",
              "\n",
              "        const docLinkHtml = 'Like what you see? Visit the ' +\n",
              "          '<a target=\"_blank\" href=https://colab.research.google.com/notebooks/data_table.ipynb>data table notebook</a>'\n",
              "          + ' to learn more about interactive tables.';\n",
              "        element.innerHTML = '';\n",
              "        dataTable['output_type'] = 'display_data';\n",
              "        await google.colab.output.renderOutput(dataTable, element);\n",
              "        const docLink = document.createElement('div');\n",
              "        docLink.innerHTML = docLinkHtml;\n",
              "        element.appendChild(docLink);\n",
              "      }\n",
              "    </script>\n",
              "  </div>\n",
              "\n",
              "\n",
              "<div id=\"df-ed0c1389-8690-42a6-a15c-56094ee4fc29\">\n",
              "  <button class=\"colab-df-quickchart\" onclick=\"quickchart('df-ed0c1389-8690-42a6-a15c-56094ee4fc29')\"\n",
              "            title=\"Suggest charts\"\n",
              "            style=\"display:none;\">\n",
              "\n",
              "<svg xmlns=\"http://www.w3.org/2000/svg\" height=\"24px\"viewBox=\"0 0 24 24\"\n",
              "     width=\"24px\">\n",
              "    <g>\n",
              "        <path d=\"M19 3H5c-1.1 0-2 .9-2 2v14c0 1.1.9 2 2 2h14c1.1 0 2-.9 2-2V5c0-1.1-.9-2-2-2zM9 17H7v-7h2v7zm4 0h-2V7h2v10zm4 0h-2v-4h2v4z\"/>\n",
              "    </g>\n",
              "</svg>\n",
              "  </button>\n",
              "\n",
              "<style>\n",
              "  .colab-df-quickchart {\n",
              "      --bg-color: #E8F0FE;\n",
              "      --fill-color: #1967D2;\n",
              "      --hover-bg-color: #E2EBFA;\n",
              "      --hover-fill-color: #174EA6;\n",
              "      --disabled-fill-color: #AAA;\n",
              "      --disabled-bg-color: #DDD;\n",
              "  }\n",
              "\n",
              "  [theme=dark] .colab-df-quickchart {\n",
              "      --bg-color: #3B4455;\n",
              "      --fill-color: #D2E3FC;\n",
              "      --hover-bg-color: #434B5C;\n",
              "      --hover-fill-color: #FFFFFF;\n",
              "      --disabled-bg-color: #3B4455;\n",
              "      --disabled-fill-color: #666;\n",
              "  }\n",
              "\n",
              "  .colab-df-quickchart {\n",
              "    background-color: var(--bg-color);\n",
              "    border: none;\n",
              "    border-radius: 50%;\n",
              "    cursor: pointer;\n",
              "    display: none;\n",
              "    fill: var(--fill-color);\n",
              "    height: 32px;\n",
              "    padding: 0;\n",
              "    width: 32px;\n",
              "  }\n",
              "\n",
              "  .colab-df-quickchart:hover {\n",
              "    background-color: var(--hover-bg-color);\n",
              "    box-shadow: 0 1px 2px rgba(60, 64, 67, 0.3), 0 1px 3px 1px rgba(60, 64, 67, 0.15);\n",
              "    fill: var(--button-hover-fill-color);\n",
              "  }\n",
              "\n",
              "  .colab-df-quickchart-complete:disabled,\n",
              "  .colab-df-quickchart-complete:disabled:hover {\n",
              "    background-color: var(--disabled-bg-color);\n",
              "    fill: var(--disabled-fill-color);\n",
              "    box-shadow: none;\n",
              "  }\n",
              "\n",
              "  .colab-df-spinner {\n",
              "    border: 2px solid var(--fill-color);\n",
              "    border-color: transparent;\n",
              "    border-bottom-color: var(--fill-color);\n",
              "    animation:\n",
              "      spin 1s steps(1) infinite;\n",
              "  }\n",
              "\n",
              "  @keyframes spin {\n",
              "    0% {\n",
              "      border-color: transparent;\n",
              "      border-bottom-color: var(--fill-color);\n",
              "      border-left-color: var(--fill-color);\n",
              "    }\n",
              "    20% {\n",
              "      border-color: transparent;\n",
              "      border-left-color: var(--fill-color);\n",
              "      border-top-color: var(--fill-color);\n",
              "    }\n",
              "    30% {\n",
              "      border-color: transparent;\n",
              "      border-left-color: var(--fill-color);\n",
              "      border-top-color: var(--fill-color);\n",
              "      border-right-color: var(--fill-color);\n",
              "    }\n",
              "    40% {\n",
              "      border-color: transparent;\n",
              "      border-right-color: var(--fill-color);\n",
              "      border-top-color: var(--fill-color);\n",
              "    }\n",
              "    60% {\n",
              "      border-color: transparent;\n",
              "      border-right-color: var(--fill-color);\n",
              "    }\n",
              "    80% {\n",
              "      border-color: transparent;\n",
              "      border-right-color: var(--fill-color);\n",
              "      border-bottom-color: var(--fill-color);\n",
              "    }\n",
              "    90% {\n",
              "      border-color: transparent;\n",
              "      border-bottom-color: var(--fill-color);\n",
              "    }\n",
              "  }\n",
              "</style>\n",
              "\n",
              "  <script>\n",
              "    async function quickchart(key) {\n",
              "      const quickchartButtonEl =\n",
              "        document.querySelector('#' + key + ' button');\n",
              "      quickchartButtonEl.disabled = true;  // To prevent multiple clicks.\n",
              "      quickchartButtonEl.classList.add('colab-df-spinner');\n",
              "      try {\n",
              "        const charts = await google.colab.kernel.invokeFunction(\n",
              "            'suggestCharts', [key], {});\n",
              "      } catch (error) {\n",
              "        console.error('Error during call to suggestCharts:', error);\n",
              "      }\n",
              "      quickchartButtonEl.classList.remove('colab-df-spinner');\n",
              "      quickchartButtonEl.classList.add('colab-df-quickchart-complete');\n",
              "    }\n",
              "    (() => {\n",
              "      let quickchartButtonEl =\n",
              "        document.querySelector('#df-ed0c1389-8690-42a6-a15c-56094ee4fc29 button');\n",
              "      quickchartButtonEl.style.display =\n",
              "        google.colab.kernel.accessAllowed ? 'block' : 'none';\n",
              "    })();\n",
              "  </script>\n",
              "</div>\n",
              "\n",
              "    </div>\n",
              "  </div>\n"
            ],
            "application/vnd.google.colaboratory.intrinsic+json": {
              "type": "dataframe",
              "variable_name": "train_set",
              "summary": "{\n  \"name\": \"train_set\",\n  \"rows\": 24995,\n  \"fields\": [\n    {\n      \"column\": \"Word\",\n      \"properties\": {\n        \"dtype\": \"category\",\n        \"num_unique_values\": 9780,\n        \"samples\": [\n          \"ethikanam\",\n          \"watching\",\n          \"hanumana\"\n        ],\n        \"semantic_type\": \"\",\n        \"description\": \"\"\n      }\n    },\n    {\n      \"column\": \"Tag\",\n      \"properties\": {\n        \"dtype\": \"category\",\n        \"num_unique_values\": 8,\n        \"samples\": [\n          \"MALAYALAM\",\n          \"NUMBER\",\n          \"ENGLISH\"\n        ],\n        \"semantic_type\": \"\",\n        \"description\": \"\"\n      }\n    }\n  ]\n}"
            }
          },
          "metadata": {},
          "execution_count": 12
        }
      ],
      "source": [
        "train_set.head()"
      ]
    },
    {
      "cell_type": "code",
      "execution_count": 14,
      "metadata": {
        "colab": {
          "base_uri": "https://localhost:8080/"
        },
        "id": "v4OCdiOMo1yB",
        "outputId": "8a819252-9f4e-447d-fa9b-39e58f4c74a3"
      },
      "outputs": [
        {
          "output_type": "stream",
          "name": "stdout",
          "text": [
            "Requirement already satisfied: word2number in /usr/local/lib/python3.10/dist-packages (1.1)\n",
            "Requirement already satisfied: inflect in /usr/local/lib/python3.10/dist-packages (7.0.0)\n",
            "Requirement already satisfied: pydantic>=1.9.1 in /usr/local/lib/python3.10/dist-packages (from inflect) (2.7.4)\n",
            "Requirement already satisfied: typing-extensions in /usr/local/lib/python3.10/dist-packages (from inflect) (4.12.2)\n",
            "Requirement already satisfied: annotated-types>=0.4.0 in /usr/local/lib/python3.10/dist-packages (from pydantic>=1.9.1->inflect) (0.7.0)\n",
            "Requirement already satisfied: pydantic-core==2.18.4 in /usr/local/lib/python3.10/dist-packages (from pydantic>=1.9.1->inflect) (2.18.4)\n"
          ]
        }
      ],
      "source": [
        "!pip install word2number\n",
        "!pip install inflect\n",
        "import pandas as pd\n",
        "import inflect\n",
        "from word2number import w2n\n",
        "\n",
        "p = inflect.engine()\n",
        "\n",
        "def number_to_words(number_text):\n",
        "    try:\n",
        "        number_value = w2n.word_to_num(number_text)\n",
        "        word_format = p.number_to_words(number_value)\n",
        "        return word_format\n",
        "    except ValueError:\n",
        "        return number_text\n",
        "\n",
        "\n",
        "df_train = pd.DataFrame(train_set)\n",
        "df_val=pd.DataFrame(val_set)\n",
        "\n",
        "df_train['Word'] = df_train.apply(lambda row: number_to_words(row['Word']) if row['Tag'] == 'NUMBER' else row['Word'], axis=1)\n",
        "df_val['Word'] = df_val.apply(lambda row: number_to_words(row['Word']) if row['Tag'] == 'NUMBER' else row['Word'], axis=1)"
      ]
    },
    {
      "cell_type": "code",
      "execution_count": 16,
      "metadata": {
        "id": "_faeuqgNql5P"
      },
      "outputs": [],
      "source": [
        "df_train.to_csv('/content/drive/MyDrive/CoLi-Dravidian_2024/preprocess_num_word_train.csv')\n",
        "df_val.to_csv('/content/drive/MyDrive/CoLi-Dravidian_2024/preprocess_num_word_val.csv')"
      ]
    },
    {
      "cell_type": "markdown",
      "metadata": {
        "id": "Lw4hMamWotQx"
      },
      "source": [
        "**TF-IDF with Romanized Char [ TF-IDF of char n-grams of range (1,5) ]**"
      ]
    },
    {
      "cell_type": "code",
      "execution_count": 19,
      "metadata": {
        "id": "WQznzIQnZ_9i"
      },
      "outputs": [],
      "source": [
        "vectorizer = TfidfVectorizer(ngram_range=(1,5), analyzer= 'char')\n",
        "X = vectorizer.fit(df_train['Word'])\n",
        "train_tfidf=vectorizer.transform(df_train['Word'])\n",
        "dev_tfidf=vectorizer.transform(df_val['Word'])"
      ]
    },
    {
      "cell_type": "markdown",
      "metadata": {
        "id": "nMNTD-aku3AH"
      },
      "source": [
        "**ML Model Building : SVM, LSVC, LR, DT, kNN classifiers trained with romanized char TF-IDF**"
      ]
    },
    {
      "cell_type": "code",
      "execution_count": 20,
      "metadata": {
        "id": "cKx-jgCkvDkp"
      },
      "outputs": [],
      "source": [
        "clf1= svm.SVC()\n",
        "clf1.fit(train_tfidf, df_train['Tag'])\n",
        "val_pred1=clf1.predict(dev_tfidf)"
      ]
    },
    {
      "cell_type": "code",
      "execution_count": 21,
      "metadata": {
        "colab": {
          "base_uri": "https://localhost:8080/"
        },
        "id": "i7vfug3YvDlR",
        "outputId": "9bf474a2-49ff-4d34-ce1f-c0e7db361a75"
      },
      "outputs": [
        {
          "output_type": "stream",
          "name": "stdout",
          "text": [
            "              precision    recall  f1-score   support\n",
            "\n",
            "     ENGLISH       0.93      0.93      0.93       538\n",
            "   MALAYALAM       0.91      0.99      0.95      1175\n",
            "       MIXED       0.82      0.43      0.56        63\n",
            "        NAME       0.89      0.85      0.87       169\n",
            "      NUMBER       0.94      0.97      0.96        77\n",
            "       OTHER       0.88      0.55      0.67       179\n",
            "       PLACE       1.00      0.56      0.71         9\n",
            "         SYM       1.00      0.99      1.00       294\n",
            "\n",
            "    accuracy                           0.92      2504\n",
            "   macro avg       0.92      0.78      0.83      2504\n",
            "weighted avg       0.92      0.92      0.92      2504\n",
            "\n"
          ]
        }
      ],
      "source": [
        "print(classification_report(df_val['Tag'], val_pred1))"
      ]
    },
    {
      "cell_type": "code",
      "execution_count": 22,
      "metadata": {
        "id": "zDGcswd5vDlS"
      },
      "outputs": [],
      "source": [
        "clf2=LogisticRegression(solver='liblinear', multi_class='ovr')\n",
        "clf2.fit(train_tfidf, df_train['Tag'])\n",
        "val_pred2=clf2.predict(dev_tfidf)"
      ]
    },
    {
      "cell_type": "code",
      "execution_count": 23,
      "metadata": {
        "colab": {
          "base_uri": "https://localhost:8080/"
        },
        "id": "4vcZCnKavDlU",
        "outputId": "ab5f1669-08ed-4dbf-a831-d02da162b0c1"
      },
      "outputs": [
        {
          "output_type": "stream",
          "name": "stdout",
          "text": [
            "              precision    recall  f1-score   support\n",
            "\n",
            "     ENGLISH       0.89      0.90      0.90       538\n",
            "   MALAYALAM       0.89      0.99      0.93      1175\n",
            "       MIXED       0.79      0.17      0.29        63\n",
            "        NAME       0.88      0.81      0.85       169\n",
            "      NUMBER       0.94      0.95      0.94        77\n",
            "       OTHER       0.81      0.46      0.59       179\n",
            "       PLACE       1.00      0.44      0.62         9\n",
            "         SYM       1.00      0.99      1.00       294\n",
            "\n",
            "    accuracy                           0.90      2504\n",
            "   macro avg       0.90      0.72      0.76      2504\n",
            "weighted avg       0.89      0.90      0.89      2504\n",
            "\n"
          ]
        }
      ],
      "source": [
        "print(classification_report(df_val['Tag'], val_pred2))"
      ]
    },
    {
      "cell_type": "code",
      "execution_count": 24,
      "metadata": {
        "id": "cFwMqYYjvDlV"
      },
      "outputs": [],
      "source": [
        "clf3 = MultinomialNB(force_alpha=True)\n",
        "clf3.fit(train_tfidf, df_train['Tag'])\n",
        "val_pred3=clf3.predict(dev_tfidf)"
      ]
    },
    {
      "cell_type": "code",
      "execution_count": 25,
      "metadata": {
        "colab": {
          "base_uri": "https://localhost:8080/"
        },
        "id": "VIEhy0rqvDlW",
        "outputId": "77ea3b44-dd84-4a61-916c-941b654a696c"
      },
      "outputs": [
        {
          "output_type": "stream",
          "name": "stdout",
          "text": [
            "              precision    recall  f1-score   support\n",
            "\n",
            "     ENGLISH       0.88      0.85      0.87       538\n",
            "   MALAYALAM       0.82      0.99      0.90      1175\n",
            "       MIXED       0.00      0.00      0.00        63\n",
            "        NAME       0.85      0.72      0.78       169\n",
            "      NUMBER       0.97      0.73      0.83        77\n",
            "       OTHER       0.92      0.40      0.56       179\n",
            "       PLACE       0.00      0.00      0.00         9\n",
            "         SYM       1.00      0.99      1.00       294\n",
            "\n",
            "    accuracy                           0.87      2504\n",
            "   macro avg       0.68      0.59      0.62      2504\n",
            "weighted avg       0.85      0.87      0.84      2504\n",
            "\n"
          ]
        },
        {
          "output_type": "stream",
          "name": "stderr",
          "text": [
            "/usr/local/lib/python3.10/dist-packages/sklearn/metrics/_classification.py:1344: UndefinedMetricWarning: Precision and F-score are ill-defined and being set to 0.0 in labels with no predicted samples. Use `zero_division` parameter to control this behavior.\n",
            "  _warn_prf(average, modifier, msg_start, len(result))\n",
            "/usr/local/lib/python3.10/dist-packages/sklearn/metrics/_classification.py:1344: UndefinedMetricWarning: Precision and F-score are ill-defined and being set to 0.0 in labels with no predicted samples. Use `zero_division` parameter to control this behavior.\n",
            "  _warn_prf(average, modifier, msg_start, len(result))\n",
            "/usr/local/lib/python3.10/dist-packages/sklearn/metrics/_classification.py:1344: UndefinedMetricWarning: Precision and F-score are ill-defined and being set to 0.0 in labels with no predicted samples. Use `zero_division` parameter to control this behavior.\n",
            "  _warn_prf(average, modifier, msg_start, len(result))\n"
          ]
        }
      ],
      "source": [
        "print(classification_report(df_val['Tag'], val_pred3))"
      ]
    },
    {
      "cell_type": "code",
      "execution_count": 26,
      "metadata": {
        "id": "uSxQeHUIvDlX"
      },
      "outputs": [],
      "source": [
        "clf4 = DecisionTreeClassifier(random_state=0)\n",
        "clf4.fit(train_tfidf, df_train['Tag'])\n",
        "val_pred4=clf4.predict(dev_tfidf)"
      ]
    },
    {
      "cell_type": "code",
      "execution_count": 27,
      "metadata": {
        "colab": {
          "base_uri": "https://localhost:8080/"
        },
        "id": "9JD0haLovDlY",
        "outputId": "f543a5ea-bf69-4867-e13c-30dd28717c94"
      },
      "outputs": [
        {
          "output_type": "stream",
          "name": "stdout",
          "text": [
            "              precision    recall  f1-score   support\n",
            "\n",
            "     ENGLISH       0.91      0.92      0.92       538\n",
            "   MALAYALAM       0.93      0.96      0.94      1175\n",
            "       MIXED       0.55      0.41      0.47        63\n",
            "        NAME       0.83      0.87      0.85       169\n",
            "      NUMBER       0.89      0.91      0.90        77\n",
            "       OTHER       0.77      0.59      0.66       179\n",
            "       PLACE       0.70      0.78      0.74         9\n",
            "         SYM       1.00      0.99      1.00       294\n",
            "\n",
            "    accuracy                           0.91      2504\n",
            "   macro avg       0.82      0.80      0.81      2504\n",
            "weighted avg       0.90      0.91      0.90      2504\n",
            "\n"
          ]
        }
      ],
      "source": [
        "print(classification_report(df_val['Tag'], val_pred4))"
      ]
    },
    {
      "cell_type": "code",
      "execution_count": 28,
      "metadata": {
        "id": "x8Sm2nnvvDla"
      },
      "outputs": [],
      "source": [
        "clf5 = KNeighborsClassifier(n_neighbors=3)\n",
        "clf5.fit(train_tfidf, df_train['Tag'])\n",
        "val_pred5=clf5.predict(dev_tfidf)"
      ]
    },
    {
      "cell_type": "code",
      "execution_count": 29,
      "metadata": {
        "colab": {
          "base_uri": "https://localhost:8080/"
        },
        "id": "h6Y94UU8vDlb",
        "outputId": "e0224dce-2231-4349-8d96-369f2ca6c5bb"
      },
      "outputs": [
        {
          "output_type": "stream",
          "name": "stdout",
          "text": [
            "              precision    recall  f1-score   support\n",
            "\n",
            "     ENGLISH       0.90      0.90      0.90       538\n",
            "   MALAYALAM       0.93      0.97      0.95      1175\n",
            "       MIXED       0.61      0.27      0.37        63\n",
            "        NAME       0.85      0.86      0.86       169\n",
            "      NUMBER       0.82      0.97      0.89        77\n",
            "       OTHER       0.77      0.60      0.68       179\n",
            "       PLACE       0.83      0.56      0.67         9\n",
            "         SYM       1.00      0.99      1.00       294\n",
            "\n",
            "    accuracy                           0.91      2504\n",
            "   macro avg       0.84      0.77      0.79      2504\n",
            "weighted avg       0.90      0.91      0.90      2504\n",
            "\n"
          ]
        }
      ],
      "source": [
        "print(classification_report(df_val['Tag'], val_pred5))"
      ]
    },
    {
      "cell_type": "code",
      "execution_count": 34,
      "metadata": {
        "id": "kGGoZRZhy0v3"
      },
      "outputs": [],
      "source": [
        "voting = VotingClassifier(\n",
        "    estimators=[('SVM', clf2), ('DecisionTreeClassifier', clf4),('kNN', clf5)],\n",
        "    voting='hard')"
      ]
    },
    {
      "cell_type": "code",
      "execution_count": 35,
      "metadata": {
        "colab": {
          "base_uri": "https://localhost:8080/",
          "height": 109
        },
        "id": "SlVKt2UEw_b5",
        "outputId": "49195c3d-0130-4120-a640-8ebe26cc2c0f"
      },
      "outputs": [
        {
          "output_type": "execute_result",
          "data": {
            "text/plain": [
              "VotingClassifier(estimators=[('SVM',\n",
              "                              LogisticRegression(multi_class='ovr',\n",
              "                                                 solver='liblinear')),\n",
              "                             ('DecisionTreeClassifier',\n",
              "                              DecisionTreeClassifier(random_state=0)),\n",
              "                             ('kNN', KNeighborsClassifier(n_neighbors=3))])"
            ],
            "text/html": [
              "<style>#sk-container-id-1 {color: black;background-color: white;}#sk-container-id-1 pre{padding: 0;}#sk-container-id-1 div.sk-toggleable {background-color: white;}#sk-container-id-1 label.sk-toggleable__label {cursor: pointer;display: block;width: 100%;margin-bottom: 0;padding: 0.3em;box-sizing: border-box;text-align: center;}#sk-container-id-1 label.sk-toggleable__label-arrow:before {content: \"▸\";float: left;margin-right: 0.25em;color: #696969;}#sk-container-id-1 label.sk-toggleable__label-arrow:hover:before {color: black;}#sk-container-id-1 div.sk-estimator:hover label.sk-toggleable__label-arrow:before {color: black;}#sk-container-id-1 div.sk-toggleable__content {max-height: 0;max-width: 0;overflow: hidden;text-align: left;background-color: #f0f8ff;}#sk-container-id-1 div.sk-toggleable__content pre {margin: 0.2em;color: black;border-radius: 0.25em;background-color: #f0f8ff;}#sk-container-id-1 input.sk-toggleable__control:checked~div.sk-toggleable__content {max-height: 200px;max-width: 100%;overflow: auto;}#sk-container-id-1 input.sk-toggleable__control:checked~label.sk-toggleable__label-arrow:before {content: \"▾\";}#sk-container-id-1 div.sk-estimator input.sk-toggleable__control:checked~label.sk-toggleable__label {background-color: #d4ebff;}#sk-container-id-1 div.sk-label input.sk-toggleable__control:checked~label.sk-toggleable__label {background-color: #d4ebff;}#sk-container-id-1 input.sk-hidden--visually {border: 0;clip: rect(1px 1px 1px 1px);clip: rect(1px, 1px, 1px, 1px);height: 1px;margin: -1px;overflow: hidden;padding: 0;position: absolute;width: 1px;}#sk-container-id-1 div.sk-estimator {font-family: monospace;background-color: #f0f8ff;border: 1px dotted black;border-radius: 0.25em;box-sizing: border-box;margin-bottom: 0.5em;}#sk-container-id-1 div.sk-estimator:hover {background-color: #d4ebff;}#sk-container-id-1 div.sk-parallel-item::after {content: \"\";width: 100%;border-bottom: 1px solid gray;flex-grow: 1;}#sk-container-id-1 div.sk-label:hover label.sk-toggleable__label {background-color: #d4ebff;}#sk-container-id-1 div.sk-serial::before {content: \"\";position: absolute;border-left: 1px solid gray;box-sizing: border-box;top: 0;bottom: 0;left: 50%;z-index: 0;}#sk-container-id-1 div.sk-serial {display: flex;flex-direction: column;align-items: center;background-color: white;padding-right: 0.2em;padding-left: 0.2em;position: relative;}#sk-container-id-1 div.sk-item {position: relative;z-index: 1;}#sk-container-id-1 div.sk-parallel {display: flex;align-items: stretch;justify-content: center;background-color: white;position: relative;}#sk-container-id-1 div.sk-item::before, #sk-container-id-1 div.sk-parallel-item::before {content: \"\";position: absolute;border-left: 1px solid gray;box-sizing: border-box;top: 0;bottom: 0;left: 50%;z-index: -1;}#sk-container-id-1 div.sk-parallel-item {display: flex;flex-direction: column;z-index: 1;position: relative;background-color: white;}#sk-container-id-1 div.sk-parallel-item:first-child::after {align-self: flex-end;width: 50%;}#sk-container-id-1 div.sk-parallel-item:last-child::after {align-self: flex-start;width: 50%;}#sk-container-id-1 div.sk-parallel-item:only-child::after {width: 0;}#sk-container-id-1 div.sk-dashed-wrapped {border: 1px dashed gray;margin: 0 0.4em 0.5em 0.4em;box-sizing: border-box;padding-bottom: 0.4em;background-color: white;}#sk-container-id-1 div.sk-label label {font-family: monospace;font-weight: bold;display: inline-block;line-height: 1.2em;}#sk-container-id-1 div.sk-label-container {text-align: center;}#sk-container-id-1 div.sk-container {/* jupyter's `normalize.less` sets `[hidden] { display: none; }` but bootstrap.min.css set `[hidden] { display: none !important; }` so we also need the `!important` here to be able to override the default hidden behavior on the sphinx rendered scikit-learn.org. See: https://github.com/scikit-learn/scikit-learn/issues/21755 */display: inline-block !important;position: relative;}#sk-container-id-1 div.sk-text-repr-fallback {display: none;}</style><div id=\"sk-container-id-1\" class=\"sk-top-container\"><div class=\"sk-text-repr-fallback\"><pre>VotingClassifier(estimators=[(&#x27;SVM&#x27;,\n",
              "                              LogisticRegression(multi_class=&#x27;ovr&#x27;,\n",
              "                                                 solver=&#x27;liblinear&#x27;)),\n",
              "                             (&#x27;DecisionTreeClassifier&#x27;,\n",
              "                              DecisionTreeClassifier(random_state=0)),\n",
              "                             (&#x27;kNN&#x27;, KNeighborsClassifier(n_neighbors=3))])</pre><b>In a Jupyter environment, please rerun this cell to show the HTML representation or trust the notebook. <br />On GitHub, the HTML representation is unable to render, please try loading this page with nbviewer.org.</b></div><div class=\"sk-container\" hidden><div class=\"sk-item sk-dashed-wrapped\"><div class=\"sk-label-container\"><div class=\"sk-label sk-toggleable\"><input class=\"sk-toggleable__control sk-hidden--visually\" id=\"sk-estimator-id-1\" type=\"checkbox\" ><label for=\"sk-estimator-id-1\" class=\"sk-toggleable__label sk-toggleable__label-arrow\">VotingClassifier</label><div class=\"sk-toggleable__content\"><pre>VotingClassifier(estimators=[(&#x27;SVM&#x27;,\n",
              "                              LogisticRegression(multi_class=&#x27;ovr&#x27;,\n",
              "                                                 solver=&#x27;liblinear&#x27;)),\n",
              "                             (&#x27;DecisionTreeClassifier&#x27;,\n",
              "                              DecisionTreeClassifier(random_state=0)),\n",
              "                             (&#x27;kNN&#x27;, KNeighborsClassifier(n_neighbors=3))])</pre></div></div></div><div class=\"sk-parallel\"><div class=\"sk-parallel-item\"><div class=\"sk-item\"><div class=\"sk-label-container\"><div class=\"sk-label sk-toggleable\"><label>SVM</label></div></div><div class=\"sk-serial\"><div class=\"sk-item\"><div class=\"sk-estimator sk-toggleable\"><input class=\"sk-toggleable__control sk-hidden--visually\" id=\"sk-estimator-id-2\" type=\"checkbox\" ><label for=\"sk-estimator-id-2\" class=\"sk-toggleable__label sk-toggleable__label-arrow\">LogisticRegression</label><div class=\"sk-toggleable__content\"><pre>LogisticRegression(multi_class=&#x27;ovr&#x27;, solver=&#x27;liblinear&#x27;)</pre></div></div></div></div></div></div><div class=\"sk-parallel-item\"><div class=\"sk-item\"><div class=\"sk-label-container\"><div class=\"sk-label sk-toggleable\"><label>DecisionTreeClassifier</label></div></div><div class=\"sk-serial\"><div class=\"sk-item\"><div class=\"sk-estimator sk-toggleable\"><input class=\"sk-toggleable__control sk-hidden--visually\" id=\"sk-estimator-id-3\" type=\"checkbox\" ><label for=\"sk-estimator-id-3\" class=\"sk-toggleable__label sk-toggleable__label-arrow\">DecisionTreeClassifier</label><div class=\"sk-toggleable__content\"><pre>DecisionTreeClassifier(random_state=0)</pre></div></div></div></div></div></div><div class=\"sk-parallel-item\"><div class=\"sk-item\"><div class=\"sk-label-container\"><div class=\"sk-label sk-toggleable\"><label>kNN</label></div></div><div class=\"sk-serial\"><div class=\"sk-item\"><div class=\"sk-estimator sk-toggleable\"><input class=\"sk-toggleable__control sk-hidden--visually\" id=\"sk-estimator-id-4\" type=\"checkbox\" ><label for=\"sk-estimator-id-4\" class=\"sk-toggleable__label sk-toggleable__label-arrow\">KNeighborsClassifier</label><div class=\"sk-toggleable__content\"><pre>KNeighborsClassifier(n_neighbors=3)</pre></div></div></div></div></div></div></div></div></div></div>"
            ]
          },
          "metadata": {},
          "execution_count": 35
        }
      ],
      "source": [
        "voting.fit(train_tfidf, df_train['Tag'])"
      ]
    },
    {
      "cell_type": "code",
      "execution_count": 37,
      "metadata": {
        "id": "NJ_74HH5xInt",
        "colab": {
          "base_uri": "https://localhost:8080/"
        },
        "outputId": "30407491-130b-4d66-b8f0-fa3806d28c63"
      },
      "outputs": [
        {
          "output_type": "stream",
          "name": "stdout",
          "text": [
            "              precision    recall  f1-score   support\n",
            "\n",
            "     ENGLISH       0.89      0.93      0.91       538\n",
            "   MALAYALAM       0.91      0.98      0.95      1175\n",
            "       MIXED       0.74      0.22      0.34        63\n",
            "        NAME       0.88      0.84      0.86       169\n",
            "      NUMBER       0.94      0.95      0.94        77\n",
            "       OTHER       0.88      0.56      0.68       179\n",
            "       PLACE       1.00      0.56      0.71         9\n",
            "         SYM       1.00      0.99      1.00       294\n",
            "\n",
            "    accuracy                           0.91      2504\n",
            "   macro avg       0.90      0.75      0.80      2504\n",
            "weighted avg       0.91      0.91      0.90      2504\n",
            "\n"
          ]
        }
      ],
      "source": [
        "voting_pred= voting.predict(dev_tfidf)\n",
        "print(classification_report(df_val['Tag'], voting_pred))"
      ]
    },
    {
      "cell_type": "code",
      "execution_count": 38,
      "metadata": {
        "id": "YNC-ySbSy4tk",
        "colab": {
          "base_uri": "https://localhost:8080/"
        },
        "outputId": "9c7bcd37-855c-45fa-a057-4f199cb9a744"
      },
      "outputs": [
        {
          "output_type": "stream",
          "name": "stdout",
          "text": [
            "Collecting catboost\n",
            "  Downloading catboost-1.2.5-cp310-cp310-manylinux2014_x86_64.whl (98.2 MB)\n",
            "\u001b[2K     \u001b[90m━━━━━━━━━━━━━━━━━━━━━━━━━━━━━━━━━━━━━━━━\u001b[0m \u001b[32m98.2/98.2 MB\u001b[0m \u001b[31m2.5 MB/s\u001b[0m eta \u001b[36m0:00:00\u001b[0m\n",
            "\u001b[?25hRequirement already satisfied: graphviz in /usr/local/lib/python3.10/dist-packages (from catboost) (0.20.3)\n",
            "Requirement already satisfied: matplotlib in /usr/local/lib/python3.10/dist-packages (from catboost) (3.7.1)\n",
            "Requirement already satisfied: numpy>=1.16.0 in /usr/local/lib/python3.10/dist-packages (from catboost) (1.25.2)\n",
            "Requirement already satisfied: pandas>=0.24 in /usr/local/lib/python3.10/dist-packages (from catboost) (2.0.3)\n",
            "Requirement already satisfied: scipy in /usr/local/lib/python3.10/dist-packages (from catboost) (1.11.4)\n",
            "Requirement already satisfied: plotly in /usr/local/lib/python3.10/dist-packages (from catboost) (5.15.0)\n",
            "Requirement already satisfied: six in /usr/local/lib/python3.10/dist-packages (from catboost) (1.16.0)\n",
            "Requirement already satisfied: python-dateutil>=2.8.2 in /usr/local/lib/python3.10/dist-packages (from pandas>=0.24->catboost) (2.8.2)\n",
            "Requirement already satisfied: pytz>=2020.1 in /usr/local/lib/python3.10/dist-packages (from pandas>=0.24->catboost) (2023.4)\n",
            "Requirement already satisfied: tzdata>=2022.1 in /usr/local/lib/python3.10/dist-packages (from pandas>=0.24->catboost) (2024.1)\n",
            "Requirement already satisfied: contourpy>=1.0.1 in /usr/local/lib/python3.10/dist-packages (from matplotlib->catboost) (1.2.1)\n",
            "Requirement already satisfied: cycler>=0.10 in /usr/local/lib/python3.10/dist-packages (from matplotlib->catboost) (0.12.1)\n",
            "Requirement already satisfied: fonttools>=4.22.0 in /usr/local/lib/python3.10/dist-packages (from matplotlib->catboost) (4.53.0)\n",
            "Requirement already satisfied: kiwisolver>=1.0.1 in /usr/local/lib/python3.10/dist-packages (from matplotlib->catboost) (1.4.5)\n",
            "Requirement already satisfied: packaging>=20.0 in /usr/local/lib/python3.10/dist-packages (from matplotlib->catboost) (24.1)\n",
            "Requirement already satisfied: pillow>=6.2.0 in /usr/local/lib/python3.10/dist-packages (from matplotlib->catboost) (9.4.0)\n",
            "Requirement already satisfied: pyparsing>=2.3.1 in /usr/local/lib/python3.10/dist-packages (from matplotlib->catboost) (3.1.2)\n",
            "Requirement already satisfied: tenacity>=6.2.0 in /usr/local/lib/python3.10/dist-packages (from plotly->catboost) (8.4.1)\n",
            "Installing collected packages: catboost\n",
            "Successfully installed catboost-1.2.5\n"
          ]
        }
      ],
      "source": [
        "!pip install catboost"
      ]
    },
    {
      "cell_type": "code",
      "source": [
        "from catboost import CatBoostClassifier\n",
        "model = CatBoostClassifier(iterations=1000,  # Number of trees (default is 1000)\n",
        "                           learning_rate=0.1,  # Learning rate (default is 0.03)\n",
        "                           depth=6,  # Depth of the trees (default is 6)\n",
        "                           loss_function='MultiClass',  # Loss function (default is 'Logloss')\n",
        "                           verbose=100  # Controls the level of verbosity (default is 100)\n",
        "                           )\n",
        "\n",
        "# Train the model\n",
        "model.fit(train_tfidf, df_train['Tag'], eval_set=(dev_tfidf, df_val['Tag']), early_stopping_rounds=50, verbose=100)\n",
        "\n",
        "# Predictions on the val set\n",
        "y_pred = model.predict(dev_tfidf)\n",
        "\n",
        "print(\"\\n\", classification_report(df_val['Tag'], y_pred))"
      ],
      "metadata": {
        "colab": {
          "base_uri": "https://localhost:8080/"
        },
        "id": "grzPvBKXpFVK",
        "outputId": "f39eeb7a-85bf-4991-cd9c-69db6c85b0ba"
      },
      "execution_count": 39,
      "outputs": [
        {
          "output_type": "stream",
          "name": "stdout",
          "text": [
            "0:\tlearn: 1.7937670\ttest: 1.7791711\tbest: 1.7791711 (0)\ttotal: 2.76s\tremaining: 46m\n",
            "100:\tlearn: 0.6095413\ttest: 0.5817713\tbest: 0.5817713 (100)\ttotal: 2m 36s\tremaining: 23m 11s\n",
            "200:\tlearn: 0.5040708\ttest: 0.4861579\tbest: 0.4861579 (200)\ttotal: 5m 7s\tremaining: 20m 21s\n",
            "300:\tlearn: 0.4583066\ttest: 0.4491617\tbest: 0.4491617 (300)\ttotal: 7m 35s\tremaining: 17m 37s\n",
            "400:\tlearn: 0.4314657\ttest: 0.4289790\tbest: 0.4289790 (400)\ttotal: 10m 4s\tremaining: 15m 3s\n",
            "500:\tlearn: 0.4121518\ttest: 0.4134887\tbest: 0.4134887 (500)\ttotal: 12m 35s\tremaining: 12m 32s\n",
            "600:\tlearn: 0.3992387\ttest: 0.4047336\tbest: 0.4047242 (599)\ttotal: 15m 3s\tremaining: 9m 59s\n",
            "700:\tlearn: 0.3885762\ttest: 0.3975202\tbest: 0.3975202 (700)\ttotal: 17m 35s\tremaining: 7m 30s\n",
            "800:\tlearn: 0.3815967\ttest: 0.3930757\tbest: 0.3930757 (800)\ttotal: 20m 5s\tremaining: 4m 59s\n",
            "900:\tlearn: 0.3749738\ttest: 0.3894284\tbest: 0.3894284 (900)\ttotal: 22m 35s\tremaining: 2m 28s\n",
            "999:\tlearn: 0.3685071\ttest: 0.3860501\tbest: 0.3860501 (999)\ttotal: 25m 2s\tremaining: 0us\n",
            "\n",
            "bestTest = 0.3860500526\n",
            "bestIteration = 999\n",
            "\n",
            "\n",
            "               precision    recall  f1-score   support\n",
            "\n",
            "     ENGLISH       0.88      0.90      0.89       538\n",
            "   MALAYALAM       0.89      0.99      0.94      1175\n",
            "       MIXED       0.78      0.29      0.42        63\n",
            "        NAME       0.89      0.80      0.84       169\n",
            "      NUMBER       0.93      0.90      0.91        77\n",
            "       OTHER       0.87      0.48      0.62       179\n",
            "       PLACE       1.00      0.44      0.62         9\n",
            "         SYM       1.00      0.99      1.00       294\n",
            "\n",
            "    accuracy                           0.90      2504\n",
            "   macro avg       0.91      0.72      0.78      2504\n",
            "weighted avg       0.90      0.90      0.89      2504\n",
            "\n"
          ]
        }
      ]
    },
    {
      "cell_type": "code",
      "source": [
        "#Submission\n",
        "# to create .csv file consisting of Word and Tag as two columns\n",
        "y_pred = pd.DataFrame(data=val_pred1, columns=['final_prediction'])\n",
        "Submisssion_mal= pd.DataFrame()\n",
        "Submisssion_mal['Word'] = val_set['Word']\n",
        "Submisssion_mal['Tag'] = y_pred\n",
        "Submisssion_mal.to_csv('/content/drive/MyDrive/CoLi-Dravidian_2024/predictions.csv',index = None)"
      ],
      "metadata": {
        "id": "CiqjocKfJbJf"
      },
      "execution_count": 40,
      "outputs": []
    },
    {
      "cell_type": "code",
      "source": [],
      "metadata": {
        "id": "qSBI4_FwLaoI"
      },
      "execution_count": null,
      "outputs": []
    }
  ],
  "metadata": {
    "colab": {
      "provenance": []
    },
    "kernelspec": {
      "display_name": "Python 3",
      "name": "python3"
    },
    "language_info": {
      "name": "python"
    }
  },
  "nbformat": 4,
  "nbformat_minor": 0
}